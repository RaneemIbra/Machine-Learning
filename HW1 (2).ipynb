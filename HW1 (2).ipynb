{
 "cells": [
  {
   "cell_type": "markdown",
   "metadata": {
    "id": "WxQj_LVp7onx"
   },
   "source": [
    "# Introducrtion to Machine Learning: Assignment #1\n",
    "## Submission date: 28\\5\\2024, 23:59.\n",
    "### Topics:\n",
    "- Naïve bayes\n",
    "- Gaussian Bayes\n",
    "- Parzen Windows\n",
    "- KNN"
   ]
  },
  {
   "cell_type": "markdown",
   "metadata": {
    "id": "Mih4qIYq7so3"
   },
   "source": [
    "Submitted by:\n",
    "\n",
    " Raneem Ibraheem 212920896\n",
    "\n",
    " Selan Abu Saleh 212111439"
   ]
  },
  {
   "cell_type": "markdown",
   "metadata": {
    "id": "D3nU_S097vG5"
   },
   "source": [
    "**Assignment Instruction:**\n",
    "\n",
    "· Submissions in pairs only.\n",
    "\n",
    "· Try to keep the code as clean, concise, and short as possible\n",
    "\n",
    "· If you wish to work in your IDE, you can, but you **must**,  insert the script back to the matching cells of the notebook and run the code. <br/>Only the notebook will be submitted in moodle (in `.ipynb` format).\n",
    "\n",
    "· <font color='red'>Please write your answers to question in red</font>.\n",
    "\n",
    "**Important:** All plots, results and outputs should be included in the notebook as the cells' outputs (run all cells and do not clear the output). <br/>\n",
    "\n",
    "**Important:** Your submission must be entirely your own. Any attempts of plagiarism (including ChatGPT) will lead to grade 0 and disciplinary actions.\n"
   ]
  },
  {
   "cell_type": "markdown",
   "metadata": {
    "id": "hp1AkkIy-W_c"
   },
   "source": [
    "## Customizing Colab\n",
    "This is an optional section for you convenience:<br/>\n",
    "Go to Tools -> Settings -> editor<br/>\n",
    "There, you can adjust fonts, add line numbers, change indentations."
   ]
  },
  {
   "cell_type": "markdown",
   "metadata": {
    "id": "dIRNFk32EwZG"
   },
   "source": [
    "## Question 1 - Bayesian Classification Assuming Gaussian distribution\n",
    "You are requested by the Central Bank of America to detect between three types of bankotes: fake, fine, and good. The dataset consists of 5 features which were obtained from the digitized images of banknotes.<br/>\n",
    "Since the data is continuous, you will implement Gaussian bayes and compare to Gaussian naïve bayes.\n",
    "\n",
    "\n"
   ]
  },
  {
   "cell_type": "markdown",
   "metadata": {
    "id": "X2RcDlZcEwZQ"
   },
   "source": [
    "import libraries"
   ]
  },
  {
   "cell_type": "code",
   "execution_count": 32,
   "metadata": {
    "ExecuteTime": {
     "end_time": "2024-05-07T20:48:35.579289Z",
     "start_time": "2024-05-07T20:48:35.575811Z"
    },
    "id": "HI8EMI0KEwZQ"
   },
   "outputs": [],
   "source": [
    "import numpy as np\n",
    "import pandas as pd\n",
    "import matplotlib.pyplot as plt\n",
    "from sklearn.model_selection import train_test_split"
   ]
  },
  {
   "cell_type": "markdown",
   "metadata": {
    "id": "ZC76_8irEwZR"
   },
   "source": [
    "Load the wine dataset from https://sharon.srworkspace.com/ml/datasets/hw1/banknote_authentication.csv"
   ]
  },
  {
   "cell_type": "code",
   "execution_count": 33,
   "metadata": {
    "ExecuteTime": {
     "end_time": "2024-05-07T20:48:38.647556Z",
     "start_time": "2024-05-07T20:48:37.510899Z"
    },
    "colab": {
     "base_uri": "https://localhost:8080/",
     "height": 372
    },
    "id": "85RuF65OEwZR",
    "outputId": "2293fe3c-6a75-4b46-e222-6bd82a5eec88"
   },
   "outputs": [
    {
     "name": "stdout",
     "output_type": "stream",
     "text": [
      "(600, 6)\n"
     ]
    },
    {
     "data": {
      "text/html": [
       "<div>\n",
       "<style scoped>\n",
       "    .dataframe tbody tr th:only-of-type {\n",
       "        vertical-align: middle;\n",
       "    }\n",
       "\n",
       "    .dataframe tbody tr th {\n",
       "        vertical-align: top;\n",
       "    }\n",
       "\n",
       "    .dataframe thead th {\n",
       "        text-align: right;\n",
       "    }\n",
       "</style>\n",
       "<table border=\"1\" class=\"dataframe\">\n",
       "  <thead>\n",
       "    <tr style=\"text-align: right;\">\n",
       "      <th></th>\n",
       "      <th>contrast</th>\n",
       "      <th>skew</th>\n",
       "      <th>curtosis</th>\n",
       "      <th>heat</th>\n",
       "      <th>cent_col</th>\n",
       "      <th>Class</th>\n",
       "    </tr>\n",
       "  </thead>\n",
       "  <tbody>\n",
       "    <tr>\n",
       "      <th>0</th>\n",
       "      <td>2.446909</td>\n",
       "      <td>2.702995</td>\n",
       "      <td>0.832495</td>\n",
       "      <td>0.531505</td>\n",
       "      <td>-1.734316</td>\n",
       "      <td>0</td>\n",
       "    </tr>\n",
       "    <tr>\n",
       "      <th>1</th>\n",
       "      <td>0.870104</td>\n",
       "      <td>2.248493</td>\n",
       "      <td>-1.496408</td>\n",
       "      <td>1.383379</td>\n",
       "      <td>-1.216271</td>\n",
       "      <td>0</td>\n",
       "    </tr>\n",
       "    <tr>\n",
       "      <th>2</th>\n",
       "      <td>-1.930227</td>\n",
       "      <td>-2.708964</td>\n",
       "      <td>1.031232</td>\n",
       "      <td>-0.125341</td>\n",
       "      <td>0.683788</td>\n",
       "      <td>2</td>\n",
       "    </tr>\n",
       "    <tr>\n",
       "      <th>3</th>\n",
       "      <td>-1.503410</td>\n",
       "      <td>-2.555582</td>\n",
       "      <td>0.838071</td>\n",
       "      <td>-0.691761</td>\n",
       "      <td>1.242841</td>\n",
       "      <td>2</td>\n",
       "    </tr>\n",
       "    <tr>\n",
       "      <th>4</th>\n",
       "      <td>-1.027548</td>\n",
       "      <td>-3.375373</td>\n",
       "      <td>0.502047</td>\n",
       "      <td>-1.860655</td>\n",
       "      <td>3.321754</td>\n",
       "      <td>2</td>\n",
       "    </tr>\n",
       "    <tr>\n",
       "      <th>5</th>\n",
       "      <td>0.607669</td>\n",
       "      <td>-0.668726</td>\n",
       "      <td>0.653557</td>\n",
       "      <td>-0.539476</td>\n",
       "      <td>1.060485</td>\n",
       "      <td>2</td>\n",
       "    </tr>\n",
       "    <tr>\n",
       "      <th>6</th>\n",
       "      <td>0.137887</td>\n",
       "      <td>-1.338049</td>\n",
       "      <td>0.264780</td>\n",
       "      <td>0.714120</td>\n",
       "      <td>1.272975</td>\n",
       "      <td>1</td>\n",
       "    </tr>\n",
       "    <tr>\n",
       "      <th>7</th>\n",
       "      <td>1.690845</td>\n",
       "      <td>2.363459</td>\n",
       "      <td>-0.431590</td>\n",
       "      <td>0.657613</td>\n",
       "      <td>-1.132438</td>\n",
       "      <td>0</td>\n",
       "    </tr>\n",
       "    <tr>\n",
       "      <th>8</th>\n",
       "      <td>1.462724</td>\n",
       "      <td>2.909887</td>\n",
       "      <td>-0.277218</td>\n",
       "      <td>-0.734254</td>\n",
       "      <td>-1.627782</td>\n",
       "      <td>0</td>\n",
       "    </tr>\n",
       "    <tr>\n",
       "      <th>9</th>\n",
       "      <td>-0.118807</td>\n",
       "      <td>-0.998353</td>\n",
       "      <td>0.027847</td>\n",
       "      <td>-0.023366</td>\n",
       "      <td>1.063166</td>\n",
       "      <td>1</td>\n",
       "    </tr>\n",
       "  </tbody>\n",
       "</table>\n",
       "</div>"
      ],
      "text/plain": [
       "   contrast      skew  curtosis      heat  cent_col  Class\n",
       "0  2.446909  2.702995  0.832495  0.531505 -1.734316      0\n",
       "1  0.870104  2.248493 -1.496408  1.383379 -1.216271      0\n",
       "2 -1.930227 -2.708964  1.031232 -0.125341  0.683788      2\n",
       "3 -1.503410 -2.555582  0.838071 -0.691761  1.242841      2\n",
       "4 -1.027548 -3.375373  0.502047 -1.860655  3.321754      2\n",
       "5  0.607669 -0.668726  0.653557 -0.539476  1.060485      2\n",
       "6  0.137887 -1.338049  0.264780  0.714120  1.272975      1\n",
       "7  1.690845  2.363459 -0.431590  0.657613 -1.132438      0\n",
       "8  1.462724  2.909887 -0.277218 -0.734254 -1.627782      0\n",
       "9 -0.118807 -0.998353  0.027847 -0.023366  1.063166      1"
      ]
     },
     "execution_count": 33,
     "metadata": {},
     "output_type": "execute_result"
    }
   ],
   "source": [
    "# Implement here\n",
    "df = pd.read_csv('https://sharon.srworkspace.com/ml/datasets/hw1/banknote_authentication.csv')\n",
    "print(df.shape)\n",
    "df.head(10)"
   ]
  },
  {
   "cell_type": "markdown",
   "metadata": {
    "id": "PttbpOWzEwZR"
   },
   "source": [
    "Check if there is even potential for gaussian assumption to work here, by plotting the density of the features (without target label!), using plotting for data frames. <br/>\n",
    "Should gaussian bayes work here? <br/>\n",
    "<font color='red'>Write here your answer and explain it</font>\n",
    "<p>Well, as we can see from the graphs down below and fromt he input that we have, that the data is following a gaussian distrepution to some degree, therefore it is safe to assume that we can use the gaussian bayes method in here</p>"
   ]
  },
  {
   "cell_type": "code",
   "execution_count": 34,
   "metadata": {
    "ExecuteTime": {
     "end_time": "2024-05-07T20:48:45.604721Z",
     "start_time": "2024-05-07T20:48:44.799752Z"
    },
    "colab": {
     "base_uri": "https://localhost:8080/",
     "height": 445
    },
    "id": "3dCLDfyAEwZR",
    "outputId": "c79e7079-5a93-46ef-e33a-1ab5140a6a42"
   },
   "outputs": [
    {
     "data": {
      "image/png": "[encoded data removed]",
      "text/plain": [
       "<Figure size 1500x500 with 6 Axes>"
      ]
     },
     "metadata": {},
     "output_type": "display_data"
    }
   ],
   "source": [
    "df.plot(kind='density', subplots=True, layout=(2,3), figsize=(15, 5), sharex=False)\n",
    "plt.show()"
   ]
  },
  {
   "cell_type": "markdown",
   "metadata": {
    "id": "js0HJ50nEwZR"
   },
   "source": [
    "Convert the data to numpy and split the data to 80% training and 20% test with random state of 33. Make sure to maintain the dataset balanced, using stratify=y, in train_test_split method.\n",
    "<br/>Note that the data frame currently includes the labels as well."
   ]
  },
  {
   "cell_type": "code",
   "execution_count": 35,
   "metadata": {
    "ExecuteTime": {
     "end_time": "2024-05-07T20:48:52.117946Z",
     "start_time": "2024-05-07T20:48:52.112270Z"
    },
    "id": "pHeLEAo2EwZR"
   },
   "outputs": [],
   "source": [
    "# Implement here\n",
    "df2 = df #we will use this later, bear with me\n",
    "data = df.values #we convert the dataset to a numpy array.\n",
    "\n",
    "X= data[:,:-1] #we extract the all the rows and columns except for the last one which are the target.\n",
    "Y= data[:,-1] #we extract all the values from the last column of the array which will be the target.\n",
    "\n",
    "x_train, x_test, y_train, y_test = train_test_split(X, Y, test_size=0.2, random_state=33, stratify=Y) #now we have features that are in X and Classes that are in Y.\n",
    "#and we split them into training and testing sets, then we reserve 20% of the data for the testing set and the remaining 80% will be for training.\n",
    "#the random state will be a parameter that controls the number generator used to shuffle the data before splitting it.\n",
    "#the stratify balances the dataset by having the same proportion of class labels as the input dataset in the training and testing datasets."
   ]
  },
  {
   "cell_type": "markdown",
   "metadata": {
    "id": "Ydcyd7i3EwZS"
   },
   "source": [
    "Implement the functions below. <br/>Both get test data $X\\in\\mathbb{R}^{n\\times d}$ and returns the predicted classes (vector sized n), but the naïve bayes assumes that the features are independent.<br/>\n",
    "Hint for efficient implementation: you don't need more than one loop, use numpy!"
   ]
  },
  {
   "cell_type": "code",
   "execution_count": 36,
   "metadata": {
    "ExecuteTime": {
     "end_time": "2024-05-07T20:48:59.688998Z",
     "start_time": "2024-05-07T20:48:59.685942Z"
    },
    "id": "bIhawfwSEwZS"
   },
   "outputs": [],
   "source": [
    "class_data = {i: x_train[y_train == i] for i in np.unique(y_train)}\n",
    "\n",
    "mean_list = {i: np.mean(data, axis=0) for i, data in class_data.items()}\n",
    "\n",
    "cov_matrix_list_gauss = {i: np.cov(data, rowvar=False) for i, data in class_data.items()}\n",
    "\n",
    "var_list = {i: np.var(data, axis=0) for i, data in class_data.items()}\n",
    "\n",
    "prior_probabilities = {i: len(data) / len(y_train) for i, data in class_data.items()}\n",
    "\n",
    "def classify_point_gaussian_bayes(test_data):\n",
    "    predictions = []\n",
    "\n",
    "    for point in test_data:\n",
    "        likelihoods = {}\n",
    "        for category in np.unique(y_train):\n",
    "            mean = mean_list[category]\n",
    "            cov_matrix = cov_matrix_list_gauss[category]\n",
    "            prior_prob = prior_probabilities[category]\n",
    "\n",
    "            diff = point - mean\n",
    "            likelihood = (1 / ((2 * np.pi) ** (len(point) / 2) * np.linalg.det(cov_matrix) ** 0.5)) * \\\n",
    "                          np.exp(-0.5 * diff.T @ np.linalg.inv(cov_matrix) @ diff)\n",
    "\n",
    "            likelihoods[category] = likelihood * prior_prob\n",
    "\n",
    "        predicted_category = max(likelihoods, key=likelihoods.get)\n",
    "        predictions.append(predicted_category)\n",
    "\n",
    "    return np.array(predictions)\n",
    "\n",
    "def classify_point_gaussian_naive_bayes(test_data):\n",
    "  log_likelihoods = {}\n",
    "\n",
    "  for category in np.unique(y_train):\n",
    "      mean = mean_list[category]\n",
    "      var = var_list[category]\n",
    "      prior_prob = prior_probabilities[category]\n",
    "\n",
    "      log_feature_likelihoods = -0.5 * ((test_data - mean) ** 2) /var -0.5* np.log(2 * np.pi * var)\n",
    "\n",
    "      log_likelihood = np.sum(log_feature_likelihoods)\n",
    "\n",
    "      log_likelihoods[category] = log_likelihood + np.log(prior_prob)\n",
    "\n",
    "  predicted_category = max(log_likelihoods, key=log_likelihoods.get)\n",
    "  return predicted_category"
   ]
  },
  {
   "cell_type": "markdown",
   "metadata": {
    "id": "vJRV-LE7EwZS"
   },
   "source": [
    "For both GB and GNB, we will look at train vs test. Answer the following:\n",
    "- Which model achieved better learning? Why?\n",
    "- Could the other model be sometimes better? How, for example?\n",
    "<br/>\n",
    "<font color='red'>Write here your answers and explain</font>\n",
    "<br/>\n",
    "The results show that the GB classifier performed better than the GNB classifier, because the features were correlated, hence the better performance by the GB classifier.\n",
    "<br/>\n",
    "The GNB classifier could perform better in special cases, like the case where all the features are independent.\n",
    "<br/>Hint: Use the next section, for visualization the correlation matrix on the train.  \n"
   ]
  },
  {
   "cell_type": "code",
   "execution_count": 37,
   "metadata": {
    "id": "M5SwEIv1HEXC"
   },
   "outputs": [
    {
     "name": "stdout",
     "output_type": "stream",
     "text": [
      "             GB       GNB\n",
      "train  0.660417  0.337500\n",
      "test   0.650000  0.333333\n"
     ]
    }
   ],
   "source": [
    "# Reminder: success rate is the precentage of correctly classified data within the number of all data in the test set.\n",
    "\n",
    "dict1 = {'GB': [], 'GNB': []}\n",
    "\n",
    "accs = classify_point_gaussian_bayes(x_train)\n",
    "dict1['GB'].append(np.count_nonzero(accs == y_train) / len(y_train))\n",
    "\n",
    "accs = classify_point_gaussian_bayes(x_test)\n",
    "dict1['GB'].append(np.count_nonzero(accs == y_test) / len(y_test))\n",
    "\n",
    "accs = classify_point_gaussian_naive_bayes(x_train)\n",
    "dict1['GNB'].append(np.count_nonzero(accs == y_train) / len(y_train))\n",
    "\n",
    "accs = classify_point_gaussian_naive_bayes(x_test)\n",
    "dict1['GNB'].append(np.count_nonzero(accs == y_test) / len(y_test))\n",
    "\n",
    "df = pd.DataFrame(dict1, columns=['GB', 'GNB'], index=['train', 'test'])\n",
    "print(df)"
   ]
  },
  {
   "cell_type": "markdown",
   "metadata": {
    "id": "wCJQpXvAJCd8"
   },
   "source": [
    "Its not enough! We want to get even better test results. <br/>\n",
    "Please look at the train correlation matrix.\n",
    "- Choose one feature to remove and explain why you chose it.\n",
    "- If we continue to remove features, what do you expect to happend with the train error?\n",
    "\n",
    "<font color='red'>Write here your answers and explain them</font>\n",
    "<br/>\n",
    "I tested all the features, and they all gave me the same result, hence i picked a random feature and just removed it, but i found out that when we start to remove more and more features, the error increases and the accuracy decreases for the testing and the training."
   ]
  },
  {
   "cell_type": "code",
   "execution_count": 38,
   "metadata": {
    "id": "N1cOIzcvJZ1S"
   },
   "outputs": [],
   "source": [
    "# Implement here. you may use the code from the tutorial.\n",
    "# You can obtain the correlation matrix using numpy\n",
    "X_modified = df2.drop(columns=['heat','skew', 'contrast', 'Class']).values\n",
    "x_train_mod, x_test_mod, y_train_mod, y_test_mod = train_test_split(\n",
    "    X_modified, Y, test_size=0.2, random_state=33, stratify=Y)\n",
    "\n",
    "class_data_mod = {i: x_train_mod[y_train_mod == i] for i in np.unique(y_train_mod)}\n",
    "\n",
    "mean_list_mod = {i: np.mean(data, axis=0) for i, data in class_data_mod.items()}\n",
    "\n",
    "cov_matrix_list_gauss_mod = {i: np.cov(data, rowvar=False) for i, data in class_data_mod.items()}\n",
    "\n",
    "var_list_mod = {i: np.var(data, axis=0) for i, data in class_data_mod.items()}\n",
    "\n",
    "prior_probabilities_mod = {i: len(data) / len(y_train_mod) for i, data in class_data_mod.items()}\n",
    "\n",
    "def classify_point_gaussian_bayes_mod(test_data_mod):\n",
    "    predictions = []\n",
    "\n",
    "    for point in test_data_mod:\n",
    "        likelihoods = {}\n",
    "        for category in np.unique(y_train_mod):\n",
    "            mean = mean_list_mod[category]\n",
    "            cov_matrix = cov_matrix_list_gauss_mod[category]\n",
    "            prior_prob = prior_probabilities_mod[category]\n",
    "\n",
    "            diff = point - mean\n",
    "            likelihood = (1 / ((2 * np.pi) ** (len(point) / 2) * np.linalg.det(cov_matrix) ** 0.5)) * \\\n",
    "                          np.exp(-0.5 * diff.T @ np.linalg.inv(cov_matrix) @ diff)\n",
    "\n",
    "            likelihoods[category] = likelihood * prior_prob\n",
    "\n",
    "        predicted_category = max(likelihoods, key=likelihoods.get)\n",
    "        predictions.append(predicted_category)\n",
    "\n",
    "    return np.array(predictions)\n",
    "\n",
    "def classify_point_gaussian_naive_bayes_mod(test_data_mod):\n",
    "  log_likelihoods = {}\n",
    "\n",
    "  for category in np.unique(y_train_mod):\n",
    "      mean = mean_list_mod[category]\n",
    "      var = var_list_mod[category]\n",
    "      prior_prob = prior_probabilities_mod[category]\n",
    "\n",
    "      log_feature_likelihoods = -0.5 * ((test_data_mod - mean) ** 2) /var -0.5* np.log(2 * np.pi * var)\n",
    "\n",
    "      log_likelihood = np.sum(log_feature_likelihoods)\n",
    "\n",
    "      log_likelihoods[category] = log_likelihood + np.log(prior_prob)\n",
    "\n",
    "  predicted_category = max(log_likelihoods, key=log_likelihoods.get)\n",
    "  return predicted_category"
   ]
  },
  {
   "cell_type": "markdown",
   "metadata": {
    "id": "rls9T0EoJ6r2"
   },
   "source": [
    "Adjust the data according to your decision and print again the train and test for both models."
   ]
  },
  {
   "cell_type": "code",
   "execution_count": 39,
   "metadata": {
    "id": "HV6kqsLDJ68S"
   },
   "outputs": [
    {
     "name": "stdout",
     "output_type": "stream",
     "text": [
      "             GB       GNB\n",
      "train  0.720833  0.337500\n",
      "test   0.683333  0.333333\n"
     ]
    }
   ],
   "source": [
    "# Change here the train and the test according to the feature you chose to remove\n",
    "\n",
    "dict1 = {'GB': [], 'GNB': []}\n",
    "\n",
    "accs = classify_point_gaussian_bayes_mod(x_train_mod)\n",
    "dict1['GB'].append(np.count_nonzero(accs == y_train_mod) / len(y_train_mod))\n",
    "\n",
    "accs = classify_point_gaussian_bayes_mod(x_test_mod)\n",
    "dict1['GB'].append(np.count_nonzero(accs == y_test_mod) / len(y_test_mod))\n",
    "\n",
    "accs = classify_point_gaussian_naive_bayes_mod(x_train_mod)\n",
    "dict1['GNB'].append(np.count_nonzero(accs == y_train_mod) / len(y_train_mod))\n",
    "\n",
    "accs = classify_point_gaussian_naive_bayes_mod(x_test_mod)\n",
    "dict1['GNB'].append(np.count_nonzero(accs == y_test_mod) / len(y_test_mod))\n",
    "\n",
    "df = pd.DataFrame(dict1, columns=['GB', 'GNB'], index=['train', 'test'])\n",
    "print(df)"
   ]
  },
  {
   "cell_type": "markdown",
   "metadata": {
    "id": "LdFxOkkVEwZS"
   },
   "source": [
    "Run the boundaries plotting for (scaled) train and test with gaussian bayes.<br/>It will show the decision boundaries as saw in the lectures."
   ]
  },
  {
   "cell_type": "code",
   "execution_count": 40,
   "metadata": {
    "id": "2E2zk67-EwZT"
   },
   "outputs": [],
   "source": [
    "# Essential for the visualization\n",
    "\n",
    "from sklearn.preprocessing import StandardScaler\n",
    "sc = StandardScaler()\n",
    "x_train = sc.fit_transform(x_train)\n",
    "x_test = sc.transform(x_test)"
   ]
  },
  {
   "cell_type": "code",
   "execution_count": 41,
   "metadata": {
    "cellView": "form",
    "id": "vu6rj4QXEwZT"
   },
   "outputs": [
    {
     "name": "stdout",
     "output_type": "stream",
     "text": [
      "(10353, 5)\n"
     ]
    },
    {
     "ename": "ValueError",
     "evalue": "cannot reshape array of size 1 into shape (87,119)",
     "output_type": "error",
     "traceback": [
      "\u001b[1;31m---------------------------------------------------------------------------\u001b[0m",
      "\u001b[1;31mValueError\u001b[0m                                Traceback (most recent call last)",
      "Cell \u001b[1;32mIn[41], line 19\u001b[0m\n\u001b[0;32m     17\u001b[0m \u001b[38;5;28mprint\u001b[39m(grid_points\u001b[38;5;241m.\u001b[39mshape)\n\u001b[0;32m     18\u001b[0m Z \u001b[38;5;241m=\u001b[39m classify_point_gaussian_naive_bayes(grid_points)\n\u001b[1;32m---> 19\u001b[0m Z \u001b[38;5;241m=\u001b[39m \u001b[43mZ\u001b[49m\u001b[38;5;241;43m.\u001b[39;49m\u001b[43mreshape\u001b[49m\u001b[43m(\u001b[49m\u001b[43mxx\u001b[49m\u001b[38;5;241;43m.\u001b[39;49m\u001b[43mshape\u001b[49m\u001b[43m)\u001b[49m\n\u001b[0;32m     21\u001b[0m \u001b[38;5;66;03m# Plot the decision boundaries and the data points in the reduced 2D space\u001b[39;00m\n\u001b[0;32m     22\u001b[0m plt\u001b[38;5;241m.\u001b[39mcontourf(xx, yy, Z, alpha\u001b[38;5;241m=\u001b[39m\u001b[38;5;241m0.8\u001b[39m)\n",
      "\u001b[1;31mValueError\u001b[0m: cannot reshape array of size 1 into shape (87,119)"
     ]
    }
   ],
   "source": [
    "#@title Train Decision Boundaries of Gaussian Naive Bayes (2D)\n",
    "\n",
    "from sklearn.decomposition import PCA\n",
    "from tqdm import tqdm\n",
    "\n",
    "# Reduce the dimensionality of the data to 2 using PCA\n",
    "pca = PCA(n_components=2)\n",
    "X_reduced = pca.fit_transform(x_train)\n",
    "\n",
    "# Create a grid of points for visualization in the reduced 2D space\n",
    "x_min, x_max = X_reduced[:, 0].min() - 1, X_reduced[:, 0].max() + 1\n",
    "y_min, y_max = X_reduced[:, 1].min() - 1, X_reduced[:, 1].max() + 1\n",
    "xx, yy = np.meshgrid(np.arange(x_min, x_max, 0.1), np.arange(y_min, y_max, 0.1))\n",
    "\n",
    "# Use the GNB model to predict class labels for the grid points in the original 13D space\n",
    "grid_points = pca.inverse_transform(np.c_[xx.ravel(), yy.ravel()])\n",
    "print(grid_points.shape)\n",
    "Z = classify_point_gaussian_naive_bayes(grid_points)\n",
    "Z = Z.reshape(xx.shape)\n",
    "\n",
    "# Plot the decision boundaries and the data points in the reduced 2D space\n",
    "plt.contourf(xx, yy, Z, alpha=0.8)\n",
    "scatter = plt.scatter(X_reduced[:, 0], X_reduced[:, 1], c=y_train, cmap=plt.cm.RdYlBu)\n",
    "plt.xlabel('Principal Component 1')\n",
    "plt.ylabel('Principal Component 2')\n",
    "\n",
    "# Add a legend\n",
    "handles, labels = scatter.legend_elements()\n",
    "plt.legend(handles, labels, title='Classes')\n",
    "\n",
    "plt.title('Train Decision Boundaries of Gaussian Naive Bayes (2D)')\n",
    "plt.show()"
   ]
  },
  {
   "cell_type": "code",
   "execution_count": null,
   "metadata": {
    "cellView": "form",
    "id": "BSVMZb6NEwZT"
   },
   "outputs": [
    {
     "name": "stdout",
     "output_type": "stream",
     "text": [
      "(7524, 5)\n",
      "\n",
      "\n",
      "1.0\n"
     ]
    },
    {
     "ename": "ValueError",
     "evalue": "cannot reshape array of size 1 into shape (76,99)",
     "output_type": "error",
     "traceback": [
      "\u001b[1;31m---------------------------------------------------------------------------\u001b[0m",
      "\u001b[1;31mValueError\u001b[0m                                Traceback (most recent call last)",
      "Cell \u001b[1;32mIn[28], line 21\u001b[0m\n\u001b[0;32m     19\u001b[0m Z \u001b[38;5;241m=\u001b[39m classify_point_gaussian_naive_bayes(grid_points)\n\u001b[0;32m     20\u001b[0m \u001b[38;5;28mprint\u001b[39m(Z)\n\u001b[1;32m---> 21\u001b[0m Z \u001b[38;5;241m=\u001b[39m \u001b[43mZ\u001b[49m\u001b[38;5;241;43m.\u001b[39;49m\u001b[43mreshape\u001b[49m\u001b[43m(\u001b[49m\u001b[43mxx\u001b[49m\u001b[38;5;241;43m.\u001b[39;49m\u001b[43mshape\u001b[49m\u001b[43m)\u001b[49m\n\u001b[0;32m     23\u001b[0m \u001b[38;5;66;03m# Plot the decision boundaries and the data points in the reduced 2D space\u001b[39;00m\n\u001b[0;32m     24\u001b[0m plt\u001b[38;5;241m.\u001b[39mcontourf(xx, yy, Z, alpha\u001b[38;5;241m=\u001b[39m\u001b[38;5;241m0.8\u001b[39m)\n",
      "\u001b[1;31mValueError\u001b[0m: cannot reshape array of size 1 into shape (76,99)"
     ]
    }
   ],
   "source": [
    "#@title Train Decision Boundaries of Gaussian Naive Bayes (2D)\n",
    "\n",
    "from sklearn.decomposition import PCA\n",
    "from tqdm import tqdm\n",
    "\n",
    "# Reduce the dimensionality of the data to 2 using PCA\n",
    "X_reduced = pca.transform(x_test)\n",
    "\n",
    "# Create a grid of points for visualization in the reduced 2D space\n",
    "x_min, x_max = X_reduced[:, 0].min() - 1, X_reduced[:, 0].max() + 1\n",
    "y_min, y_max = X_reduced[:, 1].min() - 1, X_reduced[:, 1].max() + 1\n",
    "\n",
    "xx, yy = np.meshgrid(np.arange(x_min, x_max, 0.1), np.arange(y_min, y_max, 0.1))\n",
    "\n",
    "# Use the GNB model to predict class labels for the grid points in the original 13D space\n",
    "grid_points = pca.inverse_transform(np.c_[xx.ravel(), yy.ravel()])\n",
    "print(grid_points.shape)\n",
    "print(\"\\n\")\n",
    "Z = classify_point_gaussian_naive_bayes(grid_points)\n",
    "Z = Z.reshape(xx.shape)\n",
    "\n",
    "# Plot the decision boundaries and the data points in the reduced 2D space\n",
    "plt.contourf(xx, yy, Z, alpha=0.8)\n",
    "scatter = plt.scatter(X_reduced[:, 0], X_reduced[:, 1], c=y_test, cmap=plt.cm.RdYlBu)\n",
    "plt.xlabel('Principal Component 1')\n",
    "plt.ylabel('Principal Component 2')\n",
    "\n",
    "# Add a legend\n",
    "handles, labels = scatter.legend_elements()\n",
    "plt.legend(handles, labels, title='Classes')\n",
    "\n",
    "plt.title('Test Decision Boundaries of Gaussian Naive Bayes (2D)')\n",
    "plt.show()"
   ]
  },
  {
   "cell_type": "markdown",
   "metadata": {
    "id": "acuxlnhGm9BC"
   },
   "source": [
    "## Question 2 - Naive Bayes\n",
    "\n",
    "In this problem, you’ll implement a basic Naïve Bayes classifier, and use it to predict an emotion by description. <br/>\n",
    "You will have to classify the sentences into 6 categories, <b>but could be any number.</b><br/>\n",
    "The categories are {'sadness', 'joy', 'love', 'fear', 'anger', 'ambiguous'}. <br/>\n",
    "\n",
    "<b>Warning:</b> I haven't personally looked at all the data here. Even though the data is taken from a ML databases site, accept my apologies if there are any offensive sentence.\n"
   ]
  },
  {
   "cell_type": "markdown",
   "metadata": {
    "id": "BuhWspAV1n-l"
   },
   "source": [
    "import libarires"
   ]
  },
  {
   "cell_type": "code",
   "execution_count": null,
   "metadata": {
    "id": "AtBhju1K1qXh"
   },
   "outputs": [],
   "source": [
    "import numpy as np\n",
    "import pandas as pd\n",
    "import math\n",
    "from sklearn.feature_extraction.text import CountVectorizer"
   ]
  },
  {
   "cell_type": "markdown",
   "metadata": {
    "id": "SwwN8oVTn-HO"
   },
   "source": [
    "Implement the function. It reads all tweets from file and returns the following data structures: <br/>\n",
    "•\ttexall - list of documents; each entry corresponds to a tweet which is list of words. <br/>\n",
    "•\tlbAll list of tweets' labels.<br/>\n",
    "•\tvoc - set of all distinct words in the file.<br/>\n",
    "•\tcat - set of tweets categories.\n"
   ]
  },
  {
   "cell_type": "code",
   "execution_count": null,
   "metadata": {
    "id": "_zZYY_brn9Vx"
   },
   "outputs": [],
   "source": [
    "def readTrainData(file_name):\n",
    "  df = pd.read_csv(file_name)\n",
    "  # Implement here\n",
    "  return texAll, lbAll, voc, cat"
   ]
  },
  {
   "cell_type": "markdown",
   "metadata": {
    "id": "6xUbLY2Tol7u"
   },
   "source": [
    "Implement the function, which computes and returns the probabilities (on the train set):<br/>\n",
    "- $P_w$ - a matrix of class-conditional probabilities, $p(x|w_i)$\n",
    "- $P$ - a vector of class priors, $p(w_i)$\n",
    "\n",
    "Make sure you deal with the case of word that appears in voc but not in class $w$."
   ]
  },
  {
   "cell_type": "code",
   "execution_count": null,
   "metadata": {
    "id": "uYiXzZCIow9p"
   },
   "outputs": [],
   "source": [
    "def learn_NB_text():\n",
    "  # Implement here\n",
    "\treturn Pw, P"
   ]
  },
  {
   "cell_type": "markdown",
   "metadata": {
    "id": "SkmMTneCpTm-"
   },
   "source": [
    "Implement fhe function that classifies all tweets from the test set and computes the success rate.<br/>\n",
    "Iterate over all tweets of test and for each tweet find the most probable category.\n",
    "<br/><br/>\n",
    "Note1: Multiplying lots of probabilities, which are between 0 and 1, can result in floating-point underflow. Since log(xy) = log(x) + log(y), it is better to perform all computations by summing logs of probabilities rather than multiplying probabilities. <br/>Class with highest final un-normalized log probability score is still the most probable.\n"
   ]
  },
  {
   "cell_type": "code",
   "execution_count": null,
   "metadata": {
    "id": "-epXTXF5EHtx"
   },
   "outputs": [],
   "source": [
    "def ClassifyNB_text(Pw, P):\n",
    "\t# Implement here\n",
    "  print(\"hello\")"
   ]
  },
  {
   "cell_type": "markdown",
   "metadata": {
    "id": "LMZXLXTbp84V"
   },
   "source": [
    "Read the files"
   ]
  },
  {
   "cell_type": "code",
   "execution_count": null,
   "metadata": {
    "id": "wZa-wSjvZK2s"
   },
   "outputs": [],
   "source": [
    "TRAIN_FILE = 'https://sharon.srworkspace.com/ml/datasets/hw1/emotions_train.csv'\n",
    "TEST_FILE = 'https://sharon.srworkspace.com/ml/datasets/hw1/emotions_test.csv'\n",
    "\n",
    "texAll_train, lblAll_train, voc, cat = readTrainData(TRAIN_FILE)\n",
    "\n",
    "# cats must be the same at train and test\n",
    "# voc of test is irrelevant - we already trained on other voc.\n",
    "texAll_test, lblAll_test, _, __ = readTrainData(TEST_FILE)"
   ]
  },
  {
   "cell_type": "markdown",
   "metadata": {
    "id": "m1ss4d_dqyk5"
   },
   "source": [
    "Train the model, classify it on the test and report the success rate"
   ]
  },
  {
   "cell_type": "code",
   "execution_count": null,
   "metadata": {
    "id": "u5_sN3V-GOah"
   },
   "outputs": [],
   "source": [
    "Pw, P = learn_NB_text()\n",
    "sum_right = ClassifyNB_text(Pw, P)\n",
    "print(sum_right)"
   ]
  },
  {
   "cell_type": "markdown",
   "metadata": {
    "id": "MsyhpIFXgWbo"
   },
   "source": [
    "## Question 3 - KNN\n",
    "You want to detect stars into 6 types of stars by measuring their properties. <br/> NASA gave you their dataset, including temperature, color, Spectral_Class and more. <br/> In addition, you aim to compare different distance metric to determine which one is the best for this data."
   ]
  },
  {
   "cell_type": "markdown",
   "metadata": {
    "id": "jI5R52AwqOdA"
   },
   "source": [
    "import libaries"
   ]
  },
  {
   "cell_type": "code",
   "execution_count": null,
   "metadata": {
    "id": "IrdvlliQgXpE"
   },
   "outputs": [],
   "source": [
    "import numpy as np\n",
    "import pandas as pd\n",
    "from sklearn.model_selection import train_test_split\n",
    "import matplotlib.pyplot as plt"
   ]
  },
  {
   "cell_type": "markdown",
   "metadata": {
    "id": "YMt83YEaqPqf"
   },
   "source": [
    "Load the data, print the first three rows<br/>\n",
    "https://sharon.srworkspace.com/ml/datasets/hw1/Stars.csv"
   ]
  },
  {
   "cell_type": "code",
   "execution_count": null,
   "metadata": {
    "id": "rAGt7yWzn-pj"
   },
   "outputs": [],
   "source": [
    "# Implement here"
   ]
  },
  {
   "cell_type": "markdown",
   "metadata": {
    "id": "RMJVaS8DqRBB"
   },
   "source": [
    "Convert categorial features to discerete values"
   ]
  },
  {
   "cell_type": "code",
   "execution_count": null,
   "metadata": {
    "id": "nlPbLdxqooAy"
   },
   "outputs": [],
   "source": [
    "colors = df['Color'].unique()\n",
    "for idx, color in enumerate(colors):\n",
    "  df['Color'] = df['Color'].replace({color: idx})\n",
    "\n",
    "spec_class = df['Spectral_Class'].unique()\n",
    "for idx, spec in enumerate(spec_class):\n",
    "  df['Spectral_Class'] = df['Spectral_Class'].replace({spec: idx})\n",
    "df.head(3)"
   ]
  },
  {
   "cell_type": "markdown",
   "metadata": {
    "id": "685jpA45qS_D"
   },
   "source": [
    "Check the correlation matrix between the features. <br/>\n",
    "Which distance metric do you expect to work better: Euclidean distance, of the Mahalanobis distance? <br/>\n",
    "<font color='red'>Write here your answer and explain it</font>"
   ]
  },
  {
   "cell_type": "code",
   "execution_count": null,
   "metadata": {
    "id": "vrb2NRL6p6gC"
   },
   "outputs": [],
   "source": [
    "# Implement here"
   ]
  },
  {
   "cell_type": "markdown",
   "metadata": {
    "id": "4akX_fZnunkb"
   },
   "source": [
    "Split the data to 90% train and 10% test, with random state 42. <br/>\n",
    "Afterwards, split the train into 80% train and 20% validation, also with random state of 42<br/>\n",
    "Make sure to maintain the dataset balanced, using stratify=y, in train_test_split method. <br/> You can check the balance using df.value_counts()."
   ]
  },
  {
   "cell_type": "code",
   "execution_count": null,
   "metadata": {
    "id": "pzBXvhu9ukzG"
   },
   "outputs": [],
   "source": [
    "# Implement here"
   ]
  },
  {
   "cell_type": "markdown",
   "metadata": {
    "id": "CfUnWaYiu59l"
   },
   "source": [
    "Implement the function 'Euclidian'. <br/>\n",
    "This function gets train and test datasets ($m\\times d, n\\times d$) and returns the distance metric sized $m \\times n$, based on euclidian distance metric\n"
   ]
  },
  {
   "cell_type": "code",
   "execution_count": null,
   "metadata": {
    "id": "Werkv3zoztln"
   },
   "outputs": [],
   "source": [
    "def Euclidean(test, data):\n",
    "  # Implement here\n",
    "  print(\"hello\")\n",
    "\n",
    "def Mahalanobis(test, data):\n",
    "  distances = np.zeros((test.shape[0], data.shape[0]))\n",
    "  covariance_matrix_data = np.cov(data, rowvar=False)\n",
    "\n",
    "  # Calculate the Mahalanobis distances\n",
    "  for i in range(test.shape[0]):\n",
    "      for j in range(data.shape[0]):\n",
    "          diff =  test[i] - data[j]\n",
    "          distances[i, j] = np.sqrt(np.dot(np.dot(diff, np.linalg.inv(covariance_matrix_data)), diff.T))\n",
    "  return distances"
   ]
  },
  {
   "cell_type": "markdown",
   "metadata": {
    "id": "_U-RaTeOvYOe"
   },
   "source": [
    "Implement the function kNN_classify that returns array sized m, which are the predictions for the m test samples."
   ]
  },
  {
   "cell_type": "code",
   "execution_count": null,
   "metadata": {
    "id": "1wvWALopvZd5"
   },
   "outputs": [],
   "source": [
    "def kNN_classify(data, labels, test, k, metric='Euclidian'):\n",
    "  arguments = (test, data)\n",
    "  distances = eval(f'{metric}(*arguments)')   #returns np[][] |test| X |data| by the given metric.\n",
    "  # Implement here"
   ]
  },
  {
   "cell_type": "markdown",
   "metadata": {
    "id": "oBOw9dqxwRLm"
   },
   "source": [
    "Look at the plots for different k values. Note that the Mahalanobis distance metric is already implemented to you above. <br/>Run the following code and compare the performance of Mahalanobis vs Euclidian, specifically as function of k. <br/>\n",
    "<font color='red'>Write here your answer and explain it</font>"
   ]
  },
  {
   "cell_type": "code",
   "execution_count": null,
   "metadata": {
    "id": "Wp_CDXB4whVs"
   },
   "outputs": [],
   "source": [
    "metrics = ['Euclidean', 'Mahalanobis']\n",
    "fig, axs = plt.subplots(1, 2, figsize=(12, 5))\n",
    "\n",
    "for idx, metric in enumerate(metrics):\n",
    "\n",
    "  ks = np.arange(1, 41, 2)\n",
    "  accs = []\n",
    "  for k in ks:\n",
    "    c = kNN_classify(X_train, y_train, X_test, k, metric)\n",
    "    accs.append()   # Implement here\n",
    "\n",
    "  axs[idx % 2].plot(ks, accs, color='red')\n",
    "  axs[idx % 2].set_xlabel('k')\n",
    "  axs[idx % 2].set_ylabel('accuracy')\n",
    "  axs[idx % 2].set_title(metric)\n",
    "  axs[idx % 2].set_xticks(ks)\n",
    "plt.show()"
   ]
  },
  {
   "cell_type": "markdown",
   "metadata": {
    "id": "lcCrV-VjG7J6"
   },
   "source": [
    "Now, we implement the $L_p$ norm distance metric. Reminder:\n",
    "$$ d(x,y)=||x-y||_p=\\left(\\sum_{i=1}^d |x_i-y_i|^p\\right)^{\\frac{1}{p}} $$\n",
    "Remark: $L_1$ is the Manhattan distance and $L_2$ is the Euclidian."
   ]
  },
  {
   "cell_type": "code",
   "execution_count": null,
   "metadata": {
    "id": "B4y7DVy_G-at"
   },
   "outputs": [],
   "source": [
    "def Minkowski(test, data, p):\n",
    "  # Implement here\n",
    "  print(\"hello\")"
   ]
  },
  {
   "cell_type": "markdown",
   "metadata": {
    "id": "t3LEiAVxHEPi"
   },
   "source": [
    "Find the hyperparameter p that fits best to this problem (between 1-10)"
   ]
  },
  {
   "cell_type": "code",
   "execution_count": null,
   "metadata": {
    "id": "uuCyPfvSHJZe"
   },
   "outputs": [],
   "source": [
    "# Implement here"
   ]
  },
  {
   "cell_type": "markdown",
   "metadata": {
    "id": "_X5w2DWbHOXv"
   },
   "source": [
    "For that p, print the accuracy on the test as function of k. Is it really better  than the first two matrices? <br/>\n",
    "<font color='red'>Write here your answer and explain it</font>"
   ]
  },
  {
   "cell_type": "code",
   "execution_count": null,
   "metadata": {
    "id": "obaDY5IxHO7x"
   },
   "outputs": [],
   "source": [
    "ks = np.arange(1, 30, 2)\n",
    "accs = []\n",
    "best_p = None       # You may change the usage of p according to your previous implementation\n",
    "\n",
    "for k in ks:\n",
    "    c = kNN_classify(X_train, y_train, X_test, k, 'Minkowski')\n",
    "    accs.append()   # Implement here\n",
    "\n",
    "plt.plot(ks, accs)\n",
    "plt.xticks(ks)\n",
    "plt.show()"
   ]
  },
  {
   "cell_type": "markdown",
   "metadata": {
    "id": "mGtnsYXBH-MV"
   },
   "source": [
    "### Thats it!\n",
    "If you choose to continue, 5 pts bonus!"
   ]
  },
  {
   "cell_type": "markdown",
   "metadata": {
    "id": "FHxbC717H_qH"
   },
   "source": [
    "We are going to classify the fashion MNIST data.<br/>\n",
    "First, load the the train and test from:\n",
    "- https://sharon.srworkspace.com/ml/datasets/hw1/fashion-mnist_train.csv\n",
    "- https://sharon.srworkspace.com/ml/datasets/hw1/fashion-mnist_test.csv\n",
    "\n",
    "Seconly, convert it to numpy and obtain the train and test data & labels"
   ]
  },
  {
   "cell_type": "code",
   "execution_count": null,
   "metadata": {
    "id": "ivMxHfJZI8bm"
   },
   "outputs": [],
   "source": [
    "# Implement here"
   ]
  },
  {
   "cell_type": "markdown",
   "metadata": {
    "id": "CtLsbrZtJhxy"
   },
   "source": [
    "dispaly some random image"
   ]
  },
  {
   "cell_type": "code",
   "execution_count": null,
   "metadata": {
    "id": "1JHwU5bdJima"
   },
   "outputs": [],
   "source": [
    "idx = np.random.randint(len(X_train))\n",
    "plt.imshow(X_train[idx].reshape(28,28), cmap='gray')\n",
    "plt.show()"
   ]
  },
  {
   "cell_type": "markdown",
   "metadata": {
    "id": "-GxIuPvZJlUI"
   },
   "source": [
    "Use some google to search for appropriate distance metric that should classify correctly images. From what you read, explain yourselves, why is it a good distance metric?<br/>\n",
    "<font color='red'>Write here your answer and explain it</font>"
   ]
  },
  {
   "cell_type": "markdown",
   "metadata": {
    "id": "nUULkrBFJl2R"
   },
   "source": [
    "Now, use the sklearn package of KNN with the metric you chose and print a graph of accuracy on the test, as function of k.<br/>\n",
    "Were you correct?"
   ]
  },
  {
   "cell_type": "code",
   "execution_count": null,
   "metadata": {
    "id": "PG0OCMufJoKQ"
   },
   "outputs": [],
   "source": [
    "from sklearn.neighbors import KNeighborsClassifier\n",
    "\n",
    "# Implement here"
   ]
  },
  {
   "cell_type": "markdown",
   "metadata": {
    "id": "TjFRb665EE2Z"
   },
   "source": [
    "## Question 4 - Parzen Windoes\n",
    "See attached PDF in Moodle"
   ]
  }
 ],
 "metadata": {
  "colab": {
   "collapsed_sections": [
    "acuxlnhGm9BC",
    "MsyhpIFXgWbo",
    "mGtnsYXBH-MV"
   ],
   "provenance": []
  },
  "gpuClass": "standard",
  "kernelspec": {
   "display_name": "Python 3 (ipykernel)",
   "language": "python",
   "name": "python3"
  },
  "language_info": {
   "codemirror_mode": {
    "name": "ipython",
    "version": 3
   },
   "file_extension": ".py",
   "mimetype": "text/x-python",
   "name": "python",
   "nbconvert_exporter": "python",
   "pygments_lexer": "ipython3",
   "version": "3.12.3"
  }
 },
 "nbformat": 4,
 "nbformat_minor": 0
}
