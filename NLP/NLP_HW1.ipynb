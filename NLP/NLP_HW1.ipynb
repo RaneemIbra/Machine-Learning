{
 "cells": [
  {
   "cell_type": "code",
   "execution_count": 6,
   "metadata": {},
   "outputs": [
    {
     "name": "stdout",
     "output_type": "stream",
     "text": [
      "found files:\n",
      "                      File name  Knesset Number Protocol Type  Protocol Number\n",
      "0            13_ptm_532058.docx              13       plenary               -1\n",
      "1            13_ptm_532066.docx              13       plenary               -1\n",
      "2            13_ptm_532240.docx              13       plenary               -1\n",
      "3            13_ptm_532389.docx              13       plenary               -1\n",
      "4            14_ptm_532484.docx              14       plenary               -1\n",
      "..                          ...             ...           ...              ...\n",
      "95           23_ptv_600338.docx              23     committee              198\n",
      "96          25_ptv_1219728.docx              25     committee                1\n",
      "97          25_ptv_1457545.docx              25     committee               10\n",
      "98          25_ptv_3841247.docx              25     committee              110\n",
      "99  for_test_23_ptv_585004.docx              23     committee               73\n",
      "\n",
      "[100 rows x 4 columns]\n"
     ]
    }
   ],
   "source": [
    "import pandas as pd\n",
    "import docx as dx\n",
    "import matplotlib.pyplot as plt\n",
    "from docx import Document\n",
    "import os\n",
    "import re\n",
    "\n",
    "folder_path = \"C:/Users/Alpha/Downloads/knesset_protocols/protocol_for_hw1/\"\n",
    "protocol_files = [f for f in os.listdir(folder_path) if f.endswith(\".docx\")]\n",
    "protocol_data = []\n",
    "\n",
    "print(\"found files:\")\n",
    "for file in protocol_files:\n",
    "    match = re.search(r'(\\d+)_pt', file)\n",
    "    if match:\n",
    "        knesset_number = int(match.group(1))\n",
    "    else:\n",
    "        knesset_number = -1\n",
    "    if \"ptm\" in file:\n",
    "        protocol_type = \"plenary\"\n",
    "    elif \"ptv\" in file:\n",
    "        protocol_type = \"committee\"\n",
    "    else:\n",
    "        protocol_type = \"undefined\"\n",
    "\n",
    "    protocol_number = None\n",
    "    try:\n",
    "        doc_path = os.path.join(folder_path, file)\n",
    "        doc = Document(doc_path)\n",
    "        for paragraph in doc.paragraphs[:10]:\n",
    "            match = re.search(r\"פרוטוקול מס'? (\\d+)\", paragraph.text)\n",
    "            if match:\n",
    "                protocol_number = int(match.group(1))\n",
    "                break\n",
    "            else:\n",
    "                protocol_number = -1\n",
    "    except Exception as e:\n",
    "        print(f\"Error processing file {file}: {e}\")\n",
    "    \n",
    "    protocol_data.append({\n",
    "        \"File name\": file,\n",
    "        \"Knesset Number\": knesset_number,\n",
    "        \"Protocol Type\": protocol_type,\n",
    "        \"Protocol Number\": protocol_number\n",
    "    })\n",
    "\n",
    "protocol_df = pd.DataFrame(protocol_data)\n",
    "protocol_df.to_csv(\"C:/Users/Alpha/Downloads/knesset_protocols/protocol_data.csv\", index=False)\n",
    "\n",
    "print(protocol_df)"
   ]
  }
 ],
 "metadata": {
  "kernelspec": {
   "display_name": ".venv",
   "language": "python",
   "name": "python3"
  },
  "language_info": {
   "codemirror_mode": {
    "name": "ipython",
    "version": 3
   },
   "file_extension": ".py",
   "mimetype": "text/x-python",
   "name": "python",
   "nbconvert_exporter": "python",
   "pygments_lexer": "ipython3",
   "version": "3.12.4"
  }
 },
 "nbformat": 4,
 "nbformat_minor": 2
}
